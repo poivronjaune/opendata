{
 "cells": [
  {
   "cell_type": "code",
   "execution_count": null,
   "id": "spiritual-highland",
   "metadata": {},
   "outputs": [],
   "source": [
    "import sqlite3\n",
    "import pandas as pd\n",
    "db = sqlite3.connect('DB/avis.sqlite3')\n",
    "pd.set_option('display.max_columns', 100)"
   ]
  },
  {
   "cell_type": "code",
   "execution_count": null,
   "id": "celtic-router",
   "metadata": {
    "scrolled": true
   },
   "outputs": [],
   "source": [
    "avis = pd.read_sql_query('SELECT * FROM avis', db)\n",
    "avis"
   ]
  },
  {
   "cell_type": "code",
   "execution_count": null,
   "id": "discrete-convenience",
   "metadata": {},
   "outputs": [],
   "source": [
    "four = pd.read_sql_query('SELECT * FROM fournisseurs', db)\n",
    "four"
   ]
  },
  {
   "cell_type": "code",
   "execution_count": null,
   "id": "lesser-relationship",
   "metadata": {},
   "outputs": [],
   "source": [
    "avis.shape"
   ]
  },
  {
   "cell_type": "code",
   "execution_count": null,
   "id": "behind-customs",
   "metadata": {},
   "outputs": [],
   "source": []
  }
 ],
 "metadata": {
  "kernelspec": {
   "display_name": "Python 3",
   "language": "python",
   "name": "python3"
  },
  "language_info": {
   "codemirror_mode": {
    "name": "ipython",
    "version": 3
   },
   "file_extension": ".py",
   "mimetype": "text/x-python",
   "name": "python",
   "nbconvert_exporter": "python",
   "pygments_lexer": "ipython3",
   "version": "3.9.1"
  }
 },
 "nbformat": 4,
 "nbformat_minor": 5
}
