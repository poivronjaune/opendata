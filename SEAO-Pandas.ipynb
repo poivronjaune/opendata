{
 "cells": [
  {
   "cell_type": "code",
   "execution_count": null,
   "id": "democratic-flush",
   "metadata": {},
   "outputs": [],
   "source": [
    "# Config\n",
    "#\n",
    "# pandas.set_option('display.max_rows', None)\n",
    "#\n",
    "# Agregation\n",
    "# df.count(0) -> count the number of Non Null values in each column of the dataframe\n",
    "# df.count(1) -> count the values in each row. All None, NaN, NaT values will be ignored\n",
    "# df.groupby(by='Name').count() \n",
    "# four[four['neq'] == '1174002437']   = Show all fournisseur for specific neq number\n",
    "#\n",
    "# Grouping data\n",
    "# "
   ]
  },
  {
   "cell_type": "code",
   "execution_count": 17,
   "id": "spiritual-highland",
   "metadata": {},
   "outputs": [],
   "source": [
    "import sqlite3\n",
    "import pandas as pd\n",
    "db = sqlite3.connect('DB/avis.sqlite3')\n",
    "pd.set_option('display.max_columns', 100)\n",
    "pd.set_option('display.max_rows', 100)"
   ]
  },
  {
   "cell_type": "code",
   "execution_count": 22,
   "id": "celtic-router",
   "metadata": {
    "scrolled": true
   },
   "outputs": [],
   "source": [
    "avis = pd.read_sql_query('SELECT * FROM avis', db)\n",
    "four = pd.read_sql_query('SELECT * FROM fournisseurs', db)\n",
    "prop = pd.read_sql_query('SELECT * FROM propositions', db)"
   ]
  },
  {
   "cell_type": "code",
   "execution_count": null,
   "id": "lesser-relationship",
   "metadata": {},
   "outputs": [],
   "source": [
    "avis.shape"
   ]
  },
  {
   "cell_type": "code",
   "execution_count": 4,
   "id": "smoking-folder",
   "metadata": {},
   "outputs": [
    {
     "data": {
      "text/plain": [
       "Index(['id', 'numeroseao', 'numero', 'organisme', 'municipal', 'adresse1',\n",
       "       'adresse2', 'ville', 'province', 'pays', 'codepostal', 'titre', 'type_',\n",
       "       'nature', 'precision', 'categorieseao', 'datepublication',\n",
       "       'datefermeture', 'datesaisieouverture', 'datesaisieadjudication',\n",
       "       'dateadjudication', 'regionlivraison', 'unspscprincipale',\n",
       "       'disposition', 'hyperlienseao'],\n",
       "      dtype='object')"
      ]
     },
     "execution_count": 4,
     "metadata": {},
     "output_type": "execute_result"
    }
   ],
   "source": [
    "avis.columns"
   ]
  },
  {
   "cell_type": "code",
   "execution_count": null,
   "id": "behind-customs",
   "metadata": {},
   "outputs": [],
   "source": [
    "four.shape"
   ]
  },
  {
   "cell_type": "code",
   "execution_count": 23,
   "id": "progressive-socket",
   "metadata": {},
   "outputs": [
    {
     "data": {
      "text/plain": [
       "Index(['id', 'neq', 'nomorganisation', 'adresse1', 'adresse2', 'ville',\n",
       "       'province', 'pays', 'codepostal'],\n",
       "      dtype='object')"
      ]
     },
     "execution_count": 23,
     "metadata": {},
     "output_type": "execute_result"
    }
   ],
   "source": [
    "four.columns"
   ]
  },
  {
   "cell_type": "code",
   "execution_count": null,
   "id": "enclosed-output",
   "metadata": {},
   "outputs": [],
   "source": [
    "prop.shape"
   ]
  },
  {
   "cell_type": "code",
   "execution_count": null,
   "id": "steady-nursing",
   "metadata": {},
   "outputs": [],
   "source": [
    "prop.columns"
   ]
  },
  {
   "cell_type": "code",
   "execution_count": null,
   "id": "stunning-incident",
   "metadata": {},
   "outputs": [],
   "source": [
    "avis.count(0)"
   ]
  },
  {
   "cell_type": "code",
   "execution_count": null,
   "id": "rental-terminal",
   "metadata": {},
   "outputs": [],
   "source": [
    "four.count(0)"
   ]
  },
  {
   "cell_type": "code",
   "execution_count": null,
   "id": "blank-tomorrow",
   "metadata": {},
   "outputs": [],
   "source": [
    "prop.count(0)"
   ]
  },
  {
   "cell_type": "code",
   "execution_count": 21,
   "id": "continued-endorsement",
   "metadata": {},
   "outputs": [
    {
     "data": {
      "text/plain": [
       "1145755295    35\n",
       "1148357057    32\n",
       "1173638405    31\n",
       "1167268128    28\n",
       "1174002437    27\n",
       "              ..\n",
       "1148435820     1\n",
       "1141751256     1\n",
       "1167986364     1\n",
       "1161834081     1\n",
       "1164264252     1\n",
       "Name: neq, Length: 2960, dtype: int64"
      ]
     },
     "execution_count": 21,
     "metadata": {},
     "output_type": "execute_result"
    }
   ],
   "source": [
    "# Show all fournisseur sorted by most repeted neqs in list\n",
    "four['neq'].value_counts(sort=True)"
   ]
  },
  {
   "cell_type": "code",
   "execution_count": 20,
   "id": "specified-appointment",
   "metadata": {},
   "outputs": [
    {
     "data": {
      "text/html": [
       "<div>\n",
       "<style scoped>\n",
       "    .dataframe tbody tr th:only-of-type {\n",
       "        vertical-align: middle;\n",
       "    }\n",
       "\n",
       "    .dataframe tbody tr th {\n",
       "        vertical-align: top;\n",
       "    }\n",
       "\n",
       "    .dataframe thead th {\n",
       "        text-align: right;\n",
       "    }\n",
       "</style>\n",
       "<table border=\"1\" class=\"dataframe\">\n",
       "  <thead>\n",
       "    <tr style=\"text-align: right;\">\n",
       "      <th></th>\n",
       "      <th>id</th>\n",
       "      <th>neq</th>\n",
       "      <th>nomorganisation</th>\n",
       "      <th>adresse1</th>\n",
       "      <th>adresse2</th>\n",
       "      <th>ville</th>\n",
       "      <th>province</th>\n",
       "      <th>pays</th>\n",
       "      <th>codepostal</th>\n",
       "    </tr>\n",
       "  </thead>\n",
       "  <tbody>\n",
       "  </tbody>\n",
       "</table>\n",
       "</div>"
      ],
      "text/plain": [
       "Empty DataFrame\n",
       "Columns: [id, neq, nomorganisation, adresse1, adresse2, ville, province, pays, codepostal]\n",
       "Index: []"
      ]
     },
     "execution_count": 20,
     "metadata": {},
     "output_type": "execute_result"
    }
   ],
   "source": [
    "# Show the names of all companies for that specific new\n",
    "four[four['neq'] == '1143296276']"
   ]
  },
  {
   "cell_type": "code",
   "execution_count": 9,
   "id": "altered-machinery",
   "metadata": {
    "scrolled": true
   },
   "outputs": [
    {
     "data": {
      "text/plain": [
       "6                                            1036\n",
       "3                                             470\n",
       "16                                            330\n",
       "12                                            217\n",
       "5                                             157\n",
       "14                                            150\n",
       "1                                             129\n",
       "15                                            119\n",
       "13                                            107\n",
       "7                                             105\n",
       "9                                              98\n",
       "2                                              78\n",
       "4                                              72\n",
       "11                                             56\n",
       "8                                              48\n",
       "17                                             46\n",
       "17,4                                           37\n",
       "10                                             25\n",
       "5,16                                           19\n",
       "6,3                                            15\n",
       "4,17                                           13\n",
       "6,3,8,1,17,12,9,5,11,14,15,13,4,16,10,7,2       9\n",
       "3,6                                             9\n",
       "6,13                                            4\n",
       "6,13,16                                         4\n",
       "1,11                                            2\n",
       "14,15,13                                        1\n",
       "6,3,8,1,17,12,9,5,19,14,4,15,16,2,7,13,11       1\n",
       "4,13                                            1\n",
       "6,3,5,1,13,4,7,2                                1\n",
       "16,4,5                                          1\n",
       "14,16                                           1\n",
       "3,6,8,1,17,12,9,5,11,14,15,13,4,16,10,7,2       1\n",
       "14,15                                           1\n",
       "16,5                                            1\n",
       "6,14,15,13                                      1\n",
       "11,2,15,5,7,16                                  1\n",
       "3,9                                             1\n",
       "6,19                                            1\n",
       "6,1                                             1\n",
       "7,8                                             1\n",
       "3,1,12,16,4,9,11                                1\n",
       "19                                              1\n",
       "3,12,17,5,4,2                                   1\n",
       "16,15                                           1\n",
       "6,14,15,13,16                                   1\n",
       "6,3,13                                          1\n",
       "1,11,9                                          1\n",
       "3,6,5,7                                         1\n",
       "3,1,9                                           1\n",
       "3,1                                             1\n",
       "6,16                                            1\n",
       "6,13,16,14                                      1\n",
       "8,10                                            1\n",
       "14,7                                            1\n",
       "6,17                                            1\n",
       "17,16,9                                         1\n",
       "3,6,1,4                                         1\n",
       "2,3,11,8,14,4,15,9                              1\n",
       "6,1,17,9,5,14,15,4,10,16                        1\n",
       "13,14                                           1\n",
       "4,12                                            1\n",
       "Name: regionlivraison, dtype: int64"
      ]
     },
     "execution_count": 9,
     "metadata": {},
     "output_type": "execute_result"
    }
   ],
   "source": [
    "avis['regionlivraison'].value_counts()"
   ]
  },
  {
   "cell_type": "code",
   "execution_count": null,
   "id": "happy-compilation",
   "metadata": {},
   "outputs": [],
   "source": []
  }
 ],
 "metadata": {
  "kernelspec": {
   "display_name": "Python 3",
   "language": "python",
   "name": "python3"
  },
  "language_info": {
   "codemirror_mode": {
    "name": "ipython",
    "version": 3
   },
   "file_extension": ".py",
   "mimetype": "text/x-python",
   "name": "python",
   "nbconvert_exporter": "python",
   "pygments_lexer": "ipython3",
   "version": "3.9.1"
  }
 },
 "nbformat": 4,
 "nbformat_minor": 5
}
